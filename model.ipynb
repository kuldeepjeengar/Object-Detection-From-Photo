{
 "cells": [
  {
   "cell_type": "code",
   "execution_count": null,
   "metadata": {},
   "outputs": [],
   "source": [
    "from ultralytics import YOLO\n",
    "\n",
    "# Load a pre-trained YOLOv10n model\n",
    "model = YOLO(\"yolov10n.pt\")\n",
    "\n",
    "# Perform object detection on an image\n",
    "results = model(\"image.jpg\")\n",
    "\n",
    "# Display the results\n",
    "results[0].show()"
   ]
  }
 ],
 "metadata": {
  "language_info": {
   "name": "python"
  }
 },
 "nbformat": 4,
 "nbformat_minor": 2
}
